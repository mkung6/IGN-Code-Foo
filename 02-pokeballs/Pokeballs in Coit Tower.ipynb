{
 "cells": [
  {
   "cell_type": "markdown",
   "metadata": {},
   "source": [
    "### Step 1: Declare assumptions\n",
    "\n",
    "* Despite being my favorite, we assume the Team Rocket group in charge of this mission is someone other than Jesse and James. Otherwise, we assume the number of pokeballs they obtain is zero.\n",
    "* We assume Team Rocket can succesfully wake up Snorlax without incurring its wrath.\n",
    "* I've researched and reached out to Coit Tower and the only concrete detail I could find is it's height--210 feet tall or 6400cm. \n",
    "* The <a href=\"http://sfrecpark.org/wp-content/uploads/CoitTowerBrochure_V4_16_9_032016R.pdf\">brochure</a> mentions the top is 18in narrower than the bottom, but let's simplify the diameter to be equal throughout and makes an even cylinder.\n",
    "* If we use <a href=\"https://youtu.be/NnxRD386qQk?t=22\">references</a> for the observation deck, we can use the ruler tool in Photoshop. The width of the staircase is about 380px and the length from the outer edge of the staircase (on the right side) to the left inner wall is about 1600px, almost 5 times the length. If we assume the stairs to be 3 feet, then the inner diameter of Coit Tower is about 15 feet. We then add about 3 feet on both sides to get the full diameter--about 21 feet or 640cm.\n",
    "* We assume Coit Tower is an empty space to fit as many Pokeballs as possible\n",
    "* There is no official published resource on the actual size of a Pokeball. According to <a href=\"https://bulbapedia.bulbagarden.net/wiki/Pok%C3%A9_Ball\">bulbapedia</a>, they are roughly the size of a baseball--about 22.9 to 23.5 cm. We'll use this as our reference and simplify to 23cm.\n",
    "* Pokeballs have two different sizes. Big enough to fit your hand, and small enough to store on your belt. However, as far as I know, most Pokeballs are stored in their large size so we will go with that."
   ]
  },
  {
   "cell_type": "markdown",
   "metadata": {},
   "source": [
    "### Step 2: Coit Tower\n",
    "\n",
    "To calculate the volume of a cylinder, we use the formula:\n",
    "\n",
    "$V = \\pi r^2h$\n",
    "\n",
    "r is the radius, or half the diameter, which is 320cm.\n",
    "\n",
    "h is the height of Coit Tower: 6400cm.\n",
    "\n",
    "We can then calculate the total volume inside Coit Tower:"
   ]
  },
  {
   "cell_type": "code",
   "execution_count": 1,
   "metadata": {},
   "outputs": [
    {
     "name": "stdout",
     "output_type": "stream",
     "text": [
      "Total volume of Coit Tower: 2,058,874,161.46 cm\n"
     ]
    }
   ],
   "source": [
    "import math\n",
    "import locale\n",
    "locale.setlocale(locale.LC_ALL, '')\n",
    "\n",
    "coit_tower_radius = 320\n",
    "coit_tower_height = 6400\n",
    "coit_tower_volume = math.pi * (coit_tower_radius ** 2) * coit_tower_height\n",
    "\n",
    "print(\"Total volume of Coit Tower: \" + \"{:,.2f}\".format(coit_tower_volume) + \" cm\")"
   ]
  },
  {
   "cell_type": "markdown",
   "metadata": {},
   "source": [
    "### Step 3: Sphere Packing\n",
    "\n",
    "Because Pokeballs are spheres, they don't occupy a full space. Storing balls in a space is known as the <a href=\"https://youtu.be/CROeIGfr3gs\">sphere packing</a> <a href=\"https://en.wikipedia.org/wiki/Sphere_packing\">problem</a>.\n",
    "\n",
    "Basically, when we take a bunch of spheres and put it in a container, the spheres will only occupy about 74.05% of the space. \n",
    "\n",
    "Therefore, Coit Tower won't be completely full because there will be small gaps inbetween each Pokeball.\n",
    "\n",
    "We can use this sphere packing ratio to try and figure out how much actual space the Pokeballs will occupy inside Coit Tower.\n",
    "\n",
    "Let's calculate this amount of space:"
   ]
  },
  {
   "cell_type": "code",
   "execution_count": 2,
   "metadata": {},
   "outputs": [
    {
     "name": "stdout",
     "output_type": "stream",
     "text": [
      "Amount of space Pokeballs will occupy is approx 1,524,596,316.56 cm\n"
     ]
    }
   ],
   "source": [
    "sphere_packing_ratio = 0.7405\n",
    "\n",
    "pokeball_occupied_space = coit_tower_volume * sphere_packing_ratio\n",
    "\n",
    "print(\"Amount of space Pokeballs will occupy is approx \" + \"{:,.2f}\".format(pokeball_occupied_space) + \" cm\")"
   ]
  },
  {
   "cell_type": "markdown",
   "metadata": {},
   "source": [
    "### Step 4: Pokeballs\n",
    "\n",
    "Now that we know how much space the Pokeballs will occupy, we use that number to find out how many Pokeballs can fit.\n",
    "\n",
    "First, we calculate the volume of a single Pokeball.\n",
    "\n",
    "The volume of a sphere can be found with the formula:\n",
    "\n",
    "$V = \\frac{4}{3} \\pi r^3$"
   ]
  },
  {
   "cell_type": "code",
   "execution_count": 3,
   "metadata": {},
   "outputs": [
    {
     "name": "stdout",
     "output_type": "stream",
     "text": [
      "Volume of a single Pokeball: 6,370.63 cm\n"
     ]
    }
   ],
   "source": [
    "pokeball_radius = 11.5\n",
    "pokeball_volume = (4 / 3) * math.pi * (pokeball_radius ** 3)\n",
    "\n",
    "print(\"Volume of a single Pokeball: \" + \"{:,.2f}\".format(pokeball_volume) + \" cm\")"
   ]
  },
  {
   "cell_type": "markdown",
   "metadata": {},
   "source": [
    "Then all we have to do is calculate how many Pokeballs will fit inside the space that we calculated in step 3."
   ]
  },
  {
   "cell_type": "code",
   "execution_count": 4,
   "metadata": {},
   "outputs": [
    {
     "name": "stdout",
     "output_type": "stream",
     "text": [
      "Number of Pokeballs inside Coit Tower: 239,316.55\n"
     ]
    }
   ],
   "source": [
    "amount_of_pokeballs = pokeball_occupied_space / pokeball_volume\n",
    "\n",
    "print(\"Number of Pokeballs inside Coit Tower: \" + \"{:,.2f}\".format(amount_of_pokeballs))"
   ]
  },
  {
   "cell_type": "markdown",
   "metadata": {},
   "source": [
    "And there we have our answer.\n",
    "\n",
    "The amount of Pokeballs Team Rocket can expect to steal inside Coit Tower is about 239,316.\n",
    "\n",
    "That's a lot of Pokemon! Everyone should surrender now, or prepare to fight!"
   ]
  }
 ],
 "metadata": {
  "kernelspec": {
   "display_name": "Python 3",
   "language": "python",
   "name": "python3"
  },
  "language_info": {
   "codemirror_mode": {
    "name": "ipython",
    "version": 3
   },
   "file_extension": ".py",
   "mimetype": "text/x-python",
   "name": "python",
   "nbconvert_exporter": "python",
   "pygments_lexer": "ipython3",
   "version": "3.6.7"
  }
 },
 "nbformat": 4,
 "nbformat_minor": 2
}
